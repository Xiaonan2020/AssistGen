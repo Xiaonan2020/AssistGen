{
 "cells": [
  {
   "cell_type": "markdown",
   "metadata": {},
   "source": [
    "# <center>Deepseek企业级Agent项目开发实战</center>"
   ]
  },
  {
   "cell_type": "markdown",
   "metadata": {},
   "source": [
    "## <center>Part 6. 使用 Python 的 FastAPI 构建 REST API</center>"
   ]
  },
  {
   "cell_type": "markdown",
   "metadata": {},
   "source": [
    "&emsp;&emsp;在《Part 2：Ollama REST API - api/generate 接口详解》 和 《Part 3：Ollama REST API - api/chat 接口详解》这两节内容中，我们介绍了如何使用`Ollama`的 `REST API` 接口，在 `Python` 中调用 `Ollama` 启动的模型服务，示例代码如下：\n",
    "\n",
    "```python\n",
    "    # 设置 API 端点\n",
    "    generate_url = \"http://192.168.110.131:11434/api/generate\"    # 这里需要根据实际情况进行修改\n",
    "\n",
    "    # 示例数据\n",
    "    generate_payload = {\n",
    "        \"model\": \"deepseek-r1:7b\",   # 这里需要根据实际情况进行修改\n",
    "        \"prompt\": \"请生成一个关于人工智能的简短介绍。\",  # 这里需要根据实际情况进行修改\n",
    "        \"stream\": False,       # 默认使用的是True，如果设置为False，则返回的是一个完整的响应，而不是一个流式响应\n",
    "    }\n",
    "\n",
    "    # 调用生成接口\n",
    "    response_generate = requests.post(generate_url, json=generate_payload)\n",
    "    if response_generate.status_code == 200:\n",
    "        generate_response = response_generate.json()\n",
    "        print(\"生成响应:\", json.dumps(generate_response, ensure_ascii=False, indent=2))\n",
    "    else:\n",
    "        print(\"生成请求失败:\", response_generate.status_code, response_generate.text)\n",
    "\n",
    "```"
   ]
  },
  {
   "cell_type": "markdown",
   "metadata": {},
   "source": [
    "&emsp;&emsp;注意：`Ollama` 提供的 `OpenAPI` 兼容接口，实质上就是`api/generate` 和 `api/chat` 这两个接口的上层封装。"
   ]
  },
  {
   "cell_type": "markdown",
   "metadata": {},
   "source": [
    "&emsp;&emsp;在应用的设计架构下，我们一直所说的前后端分离，其实就是指后端提供`REST API`接口，前端通过调用这些接口来获取数据并进行展示。 而后端服务，最简单的理解就是：通过类、函数、方法等，来实现业务逻辑的代码。比如我们对上述代码进一步封装成一个`Python`函数，则变成如下："
   ]
  },
  {
   "cell_type": "code",
   "execution_count": 1,
   "metadata": {},
   "outputs": [],
   "source": [
    "import requests  # type: ignore\n",
    "import json\n",
    "\n",
    "def generate_text(prompt: str, model: str = \"deepseek-r1:1.5b\", stream: bool = False) -> dict:\n",
    "    \"\"\"\n",
    "    调用生成接口，返回生成的文本。\n",
    "\n",
    "    :param prompt: 要生成文本的提示\n",
    "    :param model: 使用的模型名称，默认为 \"deepseek-r1:7b\"\n",
    "    :param stream: 是否使用流式响应，默认为 False\n",
    "    :return: 生成的响应\n",
    "    \"\"\"\n",
    "    # 设置 API 端点\n",
    "    generate_url = \"http://127.0.0.1:11434/api/generate\"  # 这里需要根据实际情况进行修改\n",
    "\n",
    "    # 示例数据\n",
    "    generate_payload = {\n",
    "        \"model\": model,  # 使用传入的模型\n",
    "        \"prompt\": prompt,  # 使用传入的提示\n",
    "        \"stream\": False,  \n",
    "        'keep_alive': 0   # 调用完马上卸载模型    \n",
    "    }\n",
    "\n",
    "    # 调用生成接口\n",
    "    response_generate = requests.post(generate_url, json=generate_payload)\n",
    "    if response_generate.status_code == 200:\n",
    "        generate_response = response_generate.json()\n",
    "        return generate_response\n",
    "    else:\n",
    "        raise Exception(f\"生成请求失败: {response_generate.status_code}, {response_generate.text}\")"
   ]
  },
  {
   "cell_type": "markdown",
   "metadata": {},
   "source": [
    "&emsp;&emsp;进行调用："
   ]
  },
  {
   "cell_type": "code",
   "execution_count": 2,
   "metadata": {},
   "outputs": [
    {
     "name": "stdout",
     "output_type": "stream",
     "text": [
      "生成响应: {\n",
      "  \"model\": \"deepseek-r1:1.5b\",\n",
      "  \"created_at\": \"2025-08-11T11:39:57.706358698Z\",\n",
      "  \"response\": \"<think>\\n好的，我现在收到一个用户的请求：“请生成一个关于人工智能的简短介绍。”首先，我需要理解用户的需求是什么。看起来他想要一个简洁明了的概述，可能用于教育、演讲或者兴趣爱好。\\n\\n接下来，我要考虑人工智能的基本概念和重要性。通常这类介绍会提到它的发展历史、应用领域以及当前的关键挑战。比如，提到机器学习、深度学习，以及它们在医疗、制造业等领域的应用。\\n\\n然后，我需要确保内容准确且简洁。避免太长的描述，只突出主要点。同时，要说明AI不仅是技术进步，更是人类认知能力的模拟，这样能更全面地展示其价值和影响。\\n\\n最后，检查是否涵盖了人工智能的主要方面：概念、发展、应用以及挑战。这样用户的需求就能得到满足，介绍既专业又易于理解。\\n</think>\\n\\n人工智能（Artificial Intelligence, AI）是近年来发展迅速的一门技术领域，它基于计算机系统的自动学习与模拟，能够以人脑那样的模式进行复杂的人类思维活动。AI通过机器学习和深度学习等方法，能够在短时间内完成大量重复性工作，并为人类提供决策支持、数据分析、语音识别、图像识别等服务。\\n\\n人工智能在多个行业具有重要应用价值，例如医疗领域（如自动驾驶汽车、精准医学）、制造业（机器人控制、自动化生产）、金融等领域。尽管人工智能取得了巨大进展，但其局限性和伦理问题也始终是一个关注点。\",\n",
      "  \"done\": true,\n",
      "  \"done_reason\": \"stop\",\n",
      "  \"context\": [\n",
      "    151644,\n",
      "    14880,\n",
      "    43959,\n",
      "    46944,\n",
      "    101888,\n",
      "    104455,\n",
      "    9370,\n",
      "    98237,\n",
      "    99534,\n",
      "    100157,\n",
      "    1773,\n",
      "    151645,\n",
      "    151648,\n",
      "    198,\n",
      "    99692,\n",
      "    3837,\n",
      "    107520,\n",
      "    104381,\n",
      "    46944,\n",
      "    107494,\n",
      "    34859,\n",
      "    36987,\n",
      "    14880,\n",
      "    43959,\n",
      "    46944,\n",
      "    101888,\n",
      "    104455,\n",
      "    9370,\n",
      "    98237,\n",
      "    99534,\n",
      "    100157,\n",
      "    32945,\n",
      "    101140,\n",
      "    3837,\n",
      "    35946,\n",
      "    85106,\n",
      "    101128,\n",
      "    20002,\n",
      "    104378,\n",
      "    102021,\n",
      "    1773,\n",
      "    104544,\n",
      "    42411,\n",
      "    103945,\n",
      "    46944,\n",
      "    110485,\n",
      "    30858,\n",
      "    34187,\n",
      "    9370,\n",
      "    113608,\n",
      "    3837,\n",
      "    87267,\n",
      "    100751,\n",
      "    99460,\n",
      "    5373,\n",
      "    105465,\n",
      "    100631,\n",
      "    100565,\n",
      "    103059,\n",
      "    3407,\n",
      "    104326,\n",
      "    3837,\n",
      "    104515,\n",
      "    101118,\n",
      "    104455,\n",
      "    105166,\n",
      "    101290,\n",
      "    33108,\n",
      "    99335,\n",
      "    33071,\n",
      "    1773,\n",
      "    102119,\n",
      "    105230,\n",
      "    100157,\n",
      "    36993,\n",
      "    104496,\n",
      "    99652,\n",
      "    103949,\n",
      "    100022,\n",
      "    5373,\n",
      "    99892,\n",
      "    100650,\n",
      "    101034,\n",
      "    67949,\n",
      "    105386,\n",
      "    104036,\n",
      "    1773,\n",
      "    101912,\n",
      "    3837,\n",
      "    104496,\n",
      "    102182,\n",
      "    100134,\n",
      "    5373,\n",
      "    102217,\n",
      "    100134,\n",
      "    3837,\n",
      "    101034,\n",
      "    104017,\n",
      "    18493,\n",
      "    100182,\n",
      "    5373,\n",
      "    104863,\n",
      "    49567,\n",
      "    104799,\n",
      "    99892,\n",
      "    3407,\n",
      "    101889,\n",
      "    3837,\n",
      "    35946,\n",
      "    85106,\n",
      "    103944,\n",
      "    43815,\n",
      "    102188,\n",
      "    100136,\n",
      "    110485,\n",
      "    1773,\n",
      "    101153,\n",
      "    99222,\n",
      "    45861,\n",
      "    9370,\n",
      "    53481,\n",
      "    3837,\n",
      "    91680,\n",
      "    102017,\n",
      "    99558,\n",
      "    27442,\n",
      "    1773,\n",
      "    91572,\n",
      "    3837,\n",
      "    30534,\n",
      "    66394,\n",
      "    15469,\n",
      "    105912,\n",
      "    99361,\n",
      "    101300,\n",
      "    3837,\n",
      "    103979,\n",
      "    103971,\n",
      "    102875,\n",
      "    99788,\n",
      "    9370,\n",
      "    105717,\n",
      "    3837,\n",
      "    99654,\n",
      "    26232,\n",
      "    33126,\n",
      "    100011,\n",
      "    29490,\n",
      "    101987,\n",
      "    41146,\n",
      "    100162,\n",
      "    33108,\n",
      "    99564,\n",
      "    3407,\n",
      "    100161,\n",
      "    3837,\n",
      "    101071,\n",
      "    64471,\n",
      "    114369,\n",
      "    104455,\n",
      "    104396,\n",
      "    99522,\n",
      "    5122,\n",
      "    101290,\n",
      "    5373,\n",
      "    99185,\n",
      "    5373,\n",
      "    99892,\n",
      "    101034,\n",
      "    104036,\n",
      "    1773,\n",
      "    99654,\n",
      "    20002,\n",
      "    104378,\n",
      "    104077,\n",
      "    101051,\n",
      "    101929,\n",
      "    3837,\n",
      "    100157,\n",
      "    99929,\n",
      "    99878,\n",
      "    99518,\n",
      "    114660,\n",
      "    101128,\n",
      "    8997,\n",
      "    151649,\n",
      "    271,\n",
      "    104455,\n",
      "    9909,\n",
      "    9286,\n",
      "    16488,\n",
      "    21392,\n",
      "    11,\n",
      "    15235,\n",
      "    7552,\n",
      "    20412,\n",
      "    104255,\n",
      "    99185,\n",
      "    104015,\n",
      "    99774,\n",
      "    64689,\n",
      "    99361,\n",
      "    100650,\n",
      "    3837,\n",
      "    99652,\n",
      "    104210,\n",
      "    104564,\n",
      "    105743,\n",
      "    100756,\n",
      "    100134,\n",
      "    57218,\n",
      "    105717,\n",
      "    3837,\n",
      "    100006,\n",
      "    23031,\n",
      "    17340,\n",
      "    99931,\n",
      "    109496,\n",
      "    100144,\n",
      "    71817,\n",
      "    102181,\n",
      "    100623,\n",
      "    21515,\n",
      "    102141,\n",
      "    99600,\n",
      "    1773,\n",
      "    15469,\n",
      "    67338,\n",
      "    102182,\n",
      "    100134,\n",
      "    33108,\n",
      "    102217,\n",
      "    100134,\n",
      "    49567,\n",
      "    39907,\n",
      "    3837,\n",
      "    109608,\n",
      "    111927,\n",
      "    60548,\n",
      "    100722,\n",
      "    105444,\n",
      "    33071,\n",
      "    99257,\n",
      "    90395,\n",
      "    17714,\n",
      "    103971,\n",
      "    99553,\n",
      "    102041,\n",
      "    100143,\n",
      "    5373,\n",
      "    111540,\n",
      "    5373,\n",
      "    105761,\n",
      "    102450,\n",
      "    5373,\n",
      "    107553,\n",
      "    102450,\n",
      "    49567,\n",
      "    47874,\n",
      "    3407,\n",
      "    104455,\n",
      "    18493,\n",
      "    101213,\n",
      "    99717,\n",
      "    100629,\n",
      "    99335,\n",
      "    99892,\n",
      "    100162,\n",
      "    3837,\n",
      "    77557,\n",
      "    100182,\n",
      "    100650,\n",
      "    9909,\n",
      "    29524,\n",
      "    109044,\n",
      "    100343,\n",
      "    5373,\n",
      "    102146,\n",
      "    104316,\n",
      "    64359,\n",
      "    104863,\n",
      "    9909,\n",
      "    104354,\n",
      "    100359,\n",
      "    5373,\n",
      "    105550,\n",
      "    99426,\n",
      "    64359,\n",
      "    100015,\n",
      "    106483,\n",
      "    1773,\n",
      "    104138,\n",
      "    104455,\n",
      "    104847,\n",
      "    102334,\n",
      "    102442,\n",
      "    3837,\n",
      "    77288,\n",
      "    41146,\n",
      "    103377,\n",
      "    105178,\n",
      "    112811,\n",
      "    86119,\n",
      "    74763,\n",
      "    101217,\n",
      "    101909,\n",
      "    100020,\n",
      "    27442,\n",
      "    1773\n",
      "  ],\n",
      "  \"total_duration\": 4347964417,\n",
      "  \"load_duration\": 69906776,\n",
      "  \"prompt_eval_count\": 13,\n",
      "  \"prompt_eval_duration\": 253000000,\n",
      "  \"eval_count\": 298,\n",
      "  \"eval_duration\": 4018000000\n",
      "}\n"
     ]
    }
   ],
   "source": [
    "\n",
    "prompt_text = \"请生成一个关于人工智能的简短介绍。\"  # 示例提示\n",
    "response = generate_text(prompt_text)\n",
    "print(\"生成响应:\", json.dumps(response, ensure_ascii=False, indent=2))"
   ]
  },
  {
   "cell_type": "markdown",
   "metadata": {},
   "source": [
    "&emsp;&emsp;这其实就是一个非常典型的后端服务，即通过函数来实现业务逻辑。正如上述调用的示例，调用任意`Python`函数，其中只需要关注<font color=red>执行该函数应该传入的参数</font>，以及<font color=red>函数返回的结果</font>。 \n",
    "\n",
    "&emsp;&emsp;那么问题也随之而来，在本地代码环境下，我们通过函数来实现业务逻辑，这其实是非常容易的。但是，如果用户是在前端网页上点击一个按钮，我们希望它能够调用这个函数，并返回结果，这该如何实现呢？<font color='red'>我们需要做的是，将本地函数封装成一个类似于`Ollama`的`REST API`接口一样，这样就可以通过某个`URL`地址来访问，并根据请求的参数即可执行对应的后端服务。而实现这个“链路”的关键，这就是本节内容要介绍的`FastAPI`。</font>"
   ]
  },
  {
   "cell_type": "markdown",
   "metadata": {},
   "source": [
    "&emsp;&emsp;`FastAPI`是一个开源项目，其作用是基于标准 `Python` 类型提示使用 `Python` 构建 `REST API`，使用 `ASGI` 的标准来构建 `Python Web` 框架和服务器。所有简单理解：`FastAPI` 是一个 `ASGI Web` 框架。官方Github：https://github.com/fastapi/fastapi"
   ]
  },
  {
   "cell_type": "markdown",
   "metadata": {},
   "source": [
    "> 关于Python网络编程的扩展资料可以参考 `extend` 文件夹下的`Python网络编程.pdf`文件。"
   ]
  },
  {
   "cell_type": "markdown",
   "metadata": {},
   "source": [
    "<div align=center><img src=\"https://muyu20241105.oss-cn-beijing.aliyuncs.com/images/202502211246845.png\" width=100%></div>"
   ]
  },
  {
   "cell_type": "markdown",
   "metadata": {},
   "source": [
    "&emsp;&emsp;对`FastAPI`的两个概念理解：\n",
    "\n",
    "1. 它可以把一个`Python`函数，封装成一个`REST API`接口，并提供给前端调用。类似于 /api/generate 接口。\n",
    "2. 它是一个`ASGI Web`框架，可以构建`Python Web`框架和服务器，解决前端和后端之间的通信问题。也就是可以让前端通过`URL`地址来访问后端服务，并根据请求的参数来执行对应的后端服务，并且前端还可以获取到后端服务的返回结果。"
   ]
  },
  {
   "cell_type": "markdown",
   "metadata": {},
   "source": [
    "&emsp;&emsp;几个流行的基于ASGI的Web框架包括：\n",
    "\n",
    "1. Starlette：一个轻量级的ASGI框架，它旨在成为构建高性能异步服务的基础框架。Starlette 可以独立使用，也可以作为其他框架的基础组件。\n",
    "2. FastAPI：建立在Starlette之上的一个现代、快速（高性能）的Web框架，用于构建API。FastAPI强调快速开发、类型安全和自动API文档生成。\n",
    "3. Uvicorn：一个轻量级、超快的ASGI服务器，常用于运行ASGI应用。虽然Uvicorn自身不是一个Web框架，但它是运行基于ASGI的框架（如Starlette和FastAPI）的推荐服务器。\n",
    "\n",
    "\n",
    "&emsp;&emsp;简单理解：`ASGI`框架（`FastAPI` 和 `Starlette`）负责定义应用程序的逻辑和结构，服务器（`Uvicorn`）负责处理网络请求和响应。其中，`Uvicorn` 是 `FastAPI` 的默认服务器。"
   ]
  },
  {
   "cell_type": "markdown",
   "metadata": {},
   "source": [
    "&emsp;&emsp;其数据流向如下图所示："
   ]
  },
  {
   "cell_type": "markdown",
   "metadata": {},
   "source": [
    "<div align=center><img src=\"https://muyu20241105.oss-cn-beijing.aliyuncs.com/images/202502211200136.png\" width=100%></div>"
   ]
  },
  {
   "cell_type": "markdown",
   "metadata": {
    "vscode": {
     "languageId": "plaintext"
    }
   },
   "source": [
    "&emsp;&emsp;接下来，我们通过一个示例，来介绍如何使用`FastAPI`来构建一个`REST API`接口。\n"
   ]
  },
  {
   "cell_type": "markdown",
   "metadata": {},
   "source": [
    "- 下载 fastapi 依赖包"
   ]
  },
  {
   "cell_type": "markdown",
   "metadata": {},
   "source": [
    "&emsp;&emsp;使用 `pip install fastapi` 命令下载 `fastapi` 依赖包。\n"
   ]
  },
  {
   "cell_type": "markdown",
   "metadata": {},
   "source": [
    "<div align=center><img src=\"https://muyu20241105.oss-cn-beijing.aliyuncs.com/images/202502211305737.png\" width=100%></div>"
   ]
  },
  {
   "cell_type": "markdown",
   "metadata": {},
   "source": [
    "- 安装 uvicorn 依赖包\n"
   ]
  },
  {
   "cell_type": "markdown",
   "metadata": {},
   "source": [
    "&emsp;&emsp;接下来，我们需要使用一个 `ASGI` 服务器来运行 `FastAPI` 应用程序。这里我们使用 `Uvicorn` 作为 `ASGI` 服务器。需要使用 `pip install uvicorn` 命令下载 `uvicorn` 依赖包。"
   ]
  },
  {
   "cell_type": "markdown",
   "metadata": {},
   "source": [
    "<div align=center><img src=\"https://muyu20241105.oss-cn-beijing.aliyuncs.com/images/202502211305739.png\" width=100%></div>"
   ]
  },
  {
   "cell_type": "markdown",
   "metadata": {},
   "source": [
    "- 创建一个 FastAPI 应用程序"
   ]
  },
  {
   "cell_type": "markdown",
   "metadata": {},
   "source": [
    "&emsp;&emsp;创建一个 `FastAPI` 应用程序，并使用 `Uvicorn` 作为 `ASGI` 服务器来运行。这里需要说明的是，`jupyter notebook` 中是无法直接运行 `FastAPI` 应用程序的，需要使用 `Uvicorn` 作为 `ASGI` 服务器来运行。 因此，我们在`llm_backend/app/test/test_fastapi.py`文件中，来创建一个 `FastAPI` 应用程序，并使用 `Uvicorn` 作为 `ASGI` 服务器来运行。代码如下：\n",
    "\n",
    "```python\n",
    "    from fastapi import FastAPI\n",
    "    from pydantic import BaseModel\n",
    "\n",
    "    app = FastAPI()  # 创建 FastAPI 应用实例\n",
    "\n",
    "    class Item(BaseModel):\n",
    "        name: str  # 项目的名称\n",
    "        description: str = None  # 项目的描述，默认为 None\n",
    "\n",
    "    @app.get(\"/\")  # 定义 GET 请求的根路径\n",
    "    async def read_root():\n",
    "        \"\"\"返回欢迎消息\"\"\"\n",
    "        return {\"message\": \"Hello, World\"}\n",
    "\n",
    "    @app.post(\"/items/\")  # 定义 POST 请求的 /items 路径\n",
    "    async def create_item(item: Item):\n",
    "        \"\"\"创建一个新项目并返回其数据\"\"\"\n",
    "        return item  # 返回创建的项目数据\n",
    "```"
   ]
  },
  {
   "cell_type": "markdown",
   "metadata": {},
   "source": [
    "- 启动项目"
   ]
  },
  {
   "cell_type": "markdown",
   "metadata": {
    "vscode": {
     "languageId": "bat"
    }
   },
   "source": [
    "&emsp;&emsp;在`llm_backend/app/test/test_fastapi.py`文件中，我们创建了一个 `FastAPI` 应用程序，并使用 `Uvicorn` 作为 `ASGI` 服务器来运行。接下来，我们启动项目，并访问 `http://127.0.0.1:8000/items/` 地址，来访问 `FastAPI` 应用程序。启动命令如下：\n",
    "\n",
    "```bash\n",
    "    uvicorn test_fastapi:app --reload\n",
    "```\n"
   ]
  },
  {
   "cell_type": "markdown",
   "metadata": {},
   "source": [
    "<div align=center><img src=\"https://muyu20241105.oss-cn-beijing.aliyuncs.com/images/202502211318778.png\" width=100%></div>"
   ]
  },
  {
   "cell_type": "markdown",
   "metadata": {},
   "source": [
    "&emsp;&emsp;启动项目后，根据代码中定义的请求，当通过`localhost:8000/` 地址访问时，会调用`read_root`函数，返回`Hello, World`消息。"
   ]
  },
  {
   "cell_type": "markdown",
   "metadata": {},
   "source": [
    "<div align=center><img src=\"https://muyu20241105.oss-cn-beijing.aliyuncs.com/images/202502211321440.png\" width=100%></div>"
   ]
  },
  {
   "cell_type": "markdown",
   "metadata": {},
   "source": [
    "&emsp;&emsp;而当通过`localhost:8000/items/` 地址访问时，会调用`create_item`函数，返回创建的项目数据。但是这里需要注意到是：`POST` 请求是无法在浏览器的地址栏中直接访问的，因为`POST` 请求需要发送请求体，而浏览器地址栏无法发送请求体。所有我们需要使用 `curl` 命令或者 `Postman` 工具来访问。"
   ]
  },
  {
   "cell_type": "markdown",
   "metadata": {},
   "source": [
    "> PostMan 工具下载地址：https://www.postman.com/downloads/"
   ]
  },
  {
   "cell_type": "markdown",
   "metadata": {},
   "source": [
    "<div align=center><img src=\"https://muyu20241105.oss-cn-beijing.aliyuncs.com/images/202502211327809.png\" width=100%></div>"
   ]
  },
  {
   "cell_type": "markdown",
   "metadata": {},
   "source": [
    "&emsp;&emsp;整体实践也能够发现，`FastAPI` 的基本使用并不是特别复杂，但是它能够帮助我们快速构建一个 `REST API` 接口，并提供给前端调用。但是其中也存在很多的细节，比如请求参数类型、返回结果类型、依赖注入、路由、安全、认证、日志等多方面的内容，这些内容我们会在接下来的实际案例中通过实际的代码来介绍。同时，大家也可以快速浏览 `FastAPI` 的官方文档，来了解更多关于 `FastAPI` 的详细内容，地址：https://fastapi.tiangolo.com/tutorial/"
   ]
  },
  {
   "cell_type": "markdown",
   "metadata": {},
   "source": [
    "<div align=center><img src=\"https://muyu20241105.oss-cn-beijing.aliyuncs.com/images/202502211332173.png\" width=100%></div>"
   ]
  },
  {
   "cell_type": "markdown",
   "metadata": {},
   "source": [
    "&emsp;&emsp;快速了解了`FastAPI`的基本使用后，我们就可以开始学习《AssistGen》 智能客服项目中的`FastAPI` 接口代码了。入口文件是`llm_backend/main.py`文件。\n"
   ]
  }
 ],
 "metadata": {
  "kernelspec": {
   "display_name": ".venv",
   "language": "python",
   "name": "python3"
  },
  "language_info": {
   "codemirror_mode": {
    "name": "ipython",
    "version": 3
   },
   "file_extension": ".py",
   "mimetype": "text/x-python",
   "name": "python",
   "nbconvert_exporter": "python",
   "pygments_lexer": "ipython3",
   "version": "3.12.7"
  }
 },
 "nbformat": 4,
 "nbformat_minor": 2
}
